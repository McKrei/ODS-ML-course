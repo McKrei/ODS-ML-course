{
 "cells": [
  {
   "cell_type": "markdown",
   "metadata": {},
   "source": [
    " Написать код, который вычисляет сумму всех чисел, удовлетворяющих следующие условия:\n",
    "\n",
    "     положительные целые числа от 1 до 1_000_000_002 (один миллиард два) включительно\n",
    "     которые нацело (без остатка) делятся на 3 (пример: 3, 6, 9, ...)\n",
    "     и которые не заканчиваются на 4 и 7 (пример заканчивающихся на 4 и 7: 24, 27, 54, 57 ...)\n",
    "\n",
    "Результат суммы ввести в поле ниже.\n",
    "В поле нужно ввести только число, являющееся ответом, без пробелов и других символов."
   ]
  },
  {
   "cell_type": "code",
   "execution_count": 14,
   "metadata": {},
   "outputs": [
    {
     "data": {
      "text/plain": [
       "133333334466666672"
      ]
     },
     "execution_count": 14,
     "metadata": {},
     "output_type": "execute_result"
    }
   ],
   "source": [
    "# sum_ = 0\n",
    "# for n in range(1, 1_000_000_003):\n",
    "#     if n %3 == 0:\n",
    "#         if str(n)[-1] not in ['4', '7']:\n",
    "#             sum_ += n\n",
    "# print(1, sum_)\n",
    "\n",
    "# # Вариант 2, на 40% быстрее \n",
    "# print(2, sum([n for n in range(3, 1_000_000_003, 3) if str(n)[-1] not in ['4', '7']]))\n",
    "\n",
    "\n",
    "# Вариант 3. считает за 6 сек.\n",
    "# print(3, sum([sum(range(3 * i, 1_000_000_003, 30)) for i in range(0, 8)]))\n",
    "\n",
    "# Вариант 4\n",
    "# num = 1_000_000_002\n",
    "# print(((num + 3) * int((num // 3) / 2)) - (num // 30 * ((30 * (num // 30 + 1)) - 9)))"
   ]
  },
  {
   "cell_type": "code",
   "execution_count": 8,
   "metadata": {},
   "outputs": [
    {
     "name": "stdout",
     "output_type": "stream",
     "text": [
      "133333334066666672\n"
     ]
    }
   ],
   "source": [
    "num = 1_000_000_002\n",
    "out = int(num * ((num // 3 + 1) / 2) - (num // 30 + 1) * num + num // 30 * 9)\n",
    "print(out)"
   ]
  },
  {
   "cell_type": "markdown",
   "metadata": {},
   "source": [
    "На вход поступает текстовый файл из 3-х тысяч строк\n",
    "\n",
    "Формат файла:\n",
    "    \"арифметическая операция\"    \"целое число #1\"    \"целое число #2\"\n",
    "Разделитель - 4 пробела\n",
    "\n",
    "\n",
    "Нужно подготовить текстовый файл из 1 строки.\n",
    "Строка содержит набор из 3-х тысяч чисел, разделенных запятой. \n",
    "После последнего числа запятая не ставится.\n",
    "каждое число - результат операции: \n",
    "    \"результирующее целое число\" = \"целое число #1\" применить \"арифметическая операция\" \"целое число #2\"\n",
    "\n",
    "Пример входного файла:\n",
    "\n",
    "+ '+    5    4'\n",
    "+ '-    -10449    -7623'\n",
    "+ '**    2    10'\n",
    "\n",
    "\n",
    "Пример выходного файла (для примера входного файла выше):\n",
    "\n",
    "9,-2826,1024\n",
    "\n",
    "    \n",
    "Допустимые операции:\n",
    "\n",
    "    + (сложение)\n",
    "    - (вычитание)\n",
    "    * (умножение)\n",
    "    // (целочисленное деление) (для этой операции подаются только положительные числа)\n",
    "    % (остаток от деления) (для этой операции подаются только положительные числа)\n",
    "    ** (возведение в степень) (для этой операции подаются только положительные числа)\n"
   ]
  },
  {
   "cell_type": "code",
   "execution_count": 21,
   "metadata": {},
   "outputs": [
    {
     "data": {
      "text/plain": [
       "True"
      ]
     },
     "execution_count": 21,
     "metadata": {},
     "output_type": "execute_result"
    }
   ],
   "source": [
    "# Проверка\n",
    "s_output = ''\n",
    "with open('test_output_file_1.txt', 'r') as file:\n",
    "    s_output = file.read()\n",
    "result_str = ''\n",
    "with open('test_input_file_1.txt', 'r') as file:\n",
    "    for line in file:\n",
    "        operation, a, b = line.strip().split('    ')\n",
    "        result_str += str(eval(f'{a}{operation}{b}')) + ','\n",
    "result_str[:-1] == s_output"
   ]
  },
  {
   "cell_type": "code",
   "execution_count": 3,
   "metadata": {},
   "outputs": [],
   "source": [
    "# Решшение\n",
    "result_str = ''\n",
    "with open('input_file.txt', 'r') as file:\n",
    "    for line in file:\n",
    "        operation, a, b = line.strip().split('    ')\n",
    "        result_str += str(eval(f'{a}{operation}{b}')) + ','\n",
    "with open('output_file.txt', 'w') as file:\n",
    "    file.write(result_str[:-1])\n"
   ]
  },
  {
   "cell_type": "markdown",
   "metadata": {},
   "source": [
    "На вход поступает два текстовый файл из 3-х тысяч строк каждый.\n",
    "\n",
    "    Первый файл содержит строки текста.   \n",
    "     \n",
    "    Второй файл содержит строки из двух целых неотрицательных чисел.\n",
    "    Первое число в строке всегда меньше или равно второму.\n",
    "    Числа всегда меньше длины соответствующей строки первого файла.\n",
    "    Соответствующей - это значит 1-ая строка из 1-го файла соответствует 1-ой строке из 2-го файла, а 123-я строка из 1-го файла соответствует 123-ей строке из 2-го файла.\n",
    "     \n",
    "    Подготовить выходной файл, который состоит из подстрок 1-го входного файла.\n",
    "    Подстроки разделены пробелами.\n",
    "    Какие брать подстроки - написано во втором файле.\n",
    "    В конце файла пробела нет.\n",
    "\n",
    "Например:\n",
    "\n",
    "    120 строка в 1-ом файле: JBOljrfkrfjgikenfjerkrkvkfKUGlknc\n",
    "    120 строка во 2-ом файле: 13 27\n",
    "Это значит 120 подстрока в результирующем файле это символы с 13 по 27, включая 13-ый и 27-ой символы.\n",
    "Не забывайте, что нумерация символов в строке с 0.\n",
    "Пример требуемой подстроки: kenfjerkrkvkfKU\n",
    "\n",
    "    Пример 1-го входного файла:\n"
   ]
  },
  {
   "cell_type": "code",
   "execution_count": 37,
   "metadata": {},
   "outputs": [
    {
     "data": {
      "text/plain": [
       "True"
      ]
     },
     "execution_count": 37,
     "metadata": {},
     "output_type": "execute_result"
    }
   ],
   "source": [
    "# Проверка\n",
    "with open('test_import_file_2_1.txt', 'r') as file_1,\\\n",
    "     open('test_import_file_2_2.txt', 'r') as file_2,\\\n",
    "     open('test_output_file_2.txt', 'r') as file_result:\n",
    "\n",
    "    test_result = file_result.read()\n",
    "    result_str  = ''\n",
    "    for f1, f2 in zip(file_1, file_2):\n",
    "        begin, end = map(int, f2.strip().split()) \n",
    "        result_str += f1[begin: end + 1] + ' '\n",
    "        \n",
    "result_str[:-1] == test_result"
   ]
  },
  {
   "cell_type": "code",
   "execution_count": 38,
   "metadata": {},
   "outputs": [],
   "source": [
    "# Решение\n",
    "with open('import_file_2_1.txt', 'r') as file_1,\\\n",
    "     open('import_file_2_2.txt', 'r') as file_2,\\\n",
    "     open('output_file_2.txt', 'w') as file_result:\n",
    "\n",
    "    result_str  = ''\n",
    "    for f1, f2 in zip(file_1, file_2):\n",
    "        begin, end = map(int, f2.strip().split()) \n",
    "        result_str += f1[begin: end + 1] + ' '\n",
    "\n",
    "    file_result.write(result_str[:-1])"
   ]
  },
  {
   "cell_type": "markdown",
   "metadata": {},
   "source": [
    "На вход поступает строка.\n",
    "В ней хранится набор химических символов (He, O, H, Mg, Fe, ...). Без пробелов.\n",
    "Нужно расшифровать химические символы в название химических элементов.\n",
    "Для удобства, прилагается json файл, который ставит в соответствие химическому символу его химическое название.\n",
    "Как прочитать этот файл в словарь python (dict):\n",
    "\n",
    "periodic_table = json.load(open('periodic_table.json'))\n",
    "\n",
    "Пример входной строки:\n",
    "\n",
    "NOTiFICaTiON\n",
    "\n",
    "Пример выходной строки:\n",
    "\n",
    "АзотКислородТитанФторЙодКальцийТитанКислородАзот\n",
    "\n",
    "Обратите внимание, что, например, \"Bi\" - это \"Висмут\", а не \"БорЙод\".\n",
    "То есть регистр (заглавные или прописные) букв имеет значение."
   ]
  },
  {
   "cell_type": "code",
   "execution_count": 45,
   "metadata": {},
   "outputs": [
    {
     "data": {
      "text/plain": [
       "True"
      ]
     },
     "execution_count": 45,
     "metadata": {},
     "output_type": "execute_result"
    }
   ],
   "source": [
    "# Проверка\n",
    "import json\n",
    "\n",
    "test_str_el     = 'NOTiFICaTiON'\n",
    "test_result_str = 'АзотКислородТитанФторЙодКальцийТитанКислородАзот'\n",
    "result_list     = []\n",
    "result_str      = ''\n",
    "\n",
    "with open('periodic_table.json', 'r', encoding='utf-8') as file_periodic:\n",
    "    elements = json.load(file_periodic)\n",
    "\n",
    "for el in test_str_el:\n",
    "    if el.isupper():\n",
    "        result_list.append(el)\n",
    "    else:\n",
    "        result_list[-1] += el\n",
    "for el in result_list:\n",
    "    result_str += elements[el]\n",
    "    \n",
    "test_result_str == result_str"
   ]
  },
  {
   "cell_type": "code",
   "execution_count": 49,
   "metadata": {},
   "outputs": [],
   "source": [
    "# Решение\n",
    "import json\n",
    "\n",
    "result_list = []\n",
    "result_str  = ''\n",
    "with open('periodic_table.json', 'r', encoding='utf-8') as file_periodic,\\\n",
    "     open('import_file_3.txt', 'r') as file_1,\\\n",
    "     open('output_file_3.txt', 'w', encoding='utf-8') as result_file:\n",
    "    elements    = json.load(file_periodic)\n",
    "    test_str_el = file_1.read()\n",
    "\n",
    "    for el in test_str_el:\n",
    "        if el.isupper():\n",
    "            result_list.append(el)\n",
    "        else:\n",
    "            result_list[-1] += el\n",
    "    for el in result_list:\n",
    "        result_str += elements[el]\n",
    "\n",
    "    result_file.write(result_str)"
   ]
  }
 ],
 "metadata": {
  "interpreter": {
   "hash": "c469c999aae2bf6d578d6881606ced546d1546d312a4811937df5b24665ee8bc"
  },
  "kernelspec": {
   "display_name": "Python 3.9.7 ('base')",
   "language": "python",
   "name": "python3"
  },
  "language_info": {
   "codemirror_mode": {
    "name": "ipython",
    "version": 3
   },
   "file_extension": ".py",
   "mimetype": "text/x-python",
   "name": "python",
   "nbconvert_exporter": "python",
   "pygments_lexer": "ipython3",
   "version": "3.9.7"
  },
  "orig_nbformat": 4
 },
 "nbformat": 4,
 "nbformat_minor": 2
}
